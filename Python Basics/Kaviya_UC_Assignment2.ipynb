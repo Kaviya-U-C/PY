{
 "cells": [
  {
   "cell_type": "markdown",
   "metadata": {},
   "source": [
    "### Assignment 2"
   ]
  },
  {
   "cell_type": "markdown",
   "metadata": {},
   "source": [
    "#### Introduction to Python"
   ]
  },
  {
   "cell_type": "markdown",
   "metadata": {},
   "source": [
    "1. Prompt the user for a score between 0.0 and 1.0. If the score is out of range, print an\n",
    "error message. If the score is between 0.0 and 1.0, print a grade using the following\n",
    "table:\n",
    "Score Grade\n",
    ">= 0.9 A\n",
    ">= 0.8 B\n",
    ">= 0.7 C\n",
    ">= 0.6 D\n",
    "< 0.6 E\n"
   ]
  },
  {
   "cell_type": "code",
   "execution_count": 41,
   "metadata": {},
   "outputs": [],
   "source": [
    "def score():\n",
    "    try:\n",
    "        score= float(input(\"Enter the score (0-1): \"))\n",
    "        if(score<=1):  #Number to be within 1\n",
    "            if(score>= 0.9):\n",
    "                print(\"Grade A\")\n",
    "            elif(score>= 0.8):\n",
    "                print(\"Grade B\")\n",
    "            elif(score>= 0.7):\n",
    "                print(\"Grade C\")\n",
    "            elif(score>= 0.6):\n",
    "                print(\"Grade D\")\n",
    "            elif(score< 0.6) :\n",
    "                print(\"Grade E\")\n",
    "        else: \n",
    "            print(\"Number out of range\")\n",
    "    except: \n",
    "        print(\"Invalid Entry. Enter number from 0 to 1\")\n"
   ]
  },
  {
   "cell_type": "code",
   "execution_count": 42,
   "metadata": {},
   "outputs": [
    {
     "name": "stdout",
     "output_type": "stream",
     "text": [
      "Enter the score (0-1): gr\n",
      "Invalid Entry. Enter number from 0 to 1\n"
     ]
    }
   ],
   "source": [
    "score()"
   ]
  },
  {
   "cell_type": "markdown",
   "metadata": {},
   "source": [
    "2. If cost price and selling price of an item is input through the keyboard, write a program to\n",
    "determine whether the seller has made profit or incurred loss. Also determine how much\n",
    "profit he made or loss he incurred."
   ]
  },
  {
   "cell_type": "code",
   "execution_count": 43,
   "metadata": {},
   "outputs": [],
   "source": [
    "def profit():\n",
    "    try:\n",
    "        CP = int(input(\"Enter the cost price of the product: \"))\n",
    "        SP = int(input(\"Enter the selling price of the product: \"))\n",
    "\n",
    "        if(CP>SP):\n",
    "            print(\"%d rs loss incurred \"%(CP-SP)) #Calculating loss\n",
    "        elif(SP>CP):\n",
    "            print(\"%d rs profit incurred \"%(SP-CP)) #Calculating profit\n",
    "        elif(SP==CP):\n",
    "            print(\"Neither profit nor loss\") \n",
    "    except:\n",
    "        print(\"Invalid Entry!\")"
   ]
  },
  {
   "cell_type": "code",
   "execution_count": 44,
   "metadata": {},
   "outputs": [
    {
     "name": "stdout",
     "output_type": "stream",
     "text": [
      "Enter the cost price of the product: 200\n",
      "Enter the selling price of the product: 400\n",
      "200 rs profit incurred \n"
     ]
    }
   ],
   "source": [
    "profit()"
   ]
  },
  {
   "cell_type": "markdown",
   "metadata": {},
   "source": [
    "3. Any year is input through the keyboard. Write a program to determine whether the year\n",
    "is a leap year or not."
   ]
  },
  {
   "cell_type": "code",
   "execution_count": 11,
   "metadata": {},
   "outputs": [],
   "source": [
    "def year():\n",
    "    try:\n",
    "        yr = int(input(\"Enter the year: \"))\n",
    "        if(yr%4==0) and (yr%100==0) and(yr%400==0): #Leap year should be divisible by 4,100,400\n",
    "            print(\"Its a leap year\")\n",
    "        else:\n",
    "            print(\"Its not a leap year\")\n",
    "    except: \n",
    "        print(\"Invalid Entry\")\n",
    "    "
   ]
  },
  {
   "cell_type": "code",
   "execution_count": 12,
   "metadata": {},
   "outputs": [
    {
     "name": "stdout",
     "output_type": "stream",
     "text": [
      "Enter the year: 2020\n",
      "Its not a leap year\n"
     ]
    }
   ],
   "source": [
    "year()"
   ]
  },
  {
   "cell_type": "markdown",
   "metadata": {},
   "source": [
    "4. A five-digit number is entered through the keyboard. Write a program to obtain the\n",
    "reversed number and to determine whether the original and reversed numbers are equal\n",
    "or not."
   ]
  },
  {
   "cell_type": "code",
   "execution_count": 53,
   "metadata": {},
   "outputs": [],
   "source": [
    "def palindrome():\n",
    "    num =int(input(\"Enter the number: \"))\n",
    "    if(num>=10000)and (num<100000): # To accept only 5 digit number\n",
    "        original = num\n",
    "        reverse = 0\n",
    "        for i in range(5,0,-1):\n",
    "            digits = num%10 #Extracting last digit\n",
    "            num=num//10 #Extracting fisrt digit\n",
    "            position= digits*(10**(i-1)) #Postioning last digit as first digit\n",
    "            reverse= reverse+position\n",
    "        print(\"Reversed number is:\",reverse)\n",
    "        if(original==reverse): #if reversal and original number is same then it is palindrome\n",
    "            print(\"It is equal - Palindrome\")\n",
    "        else:\n",
    "            print(\"Not equal - Not a palindrome\")\n",
    "    else: \n",
    "        print(\"Number out of range\")"
   ]
  },
  {
   "cell_type": "code",
   "execution_count": 57,
   "metadata": {},
   "outputs": [
    {
     "name": "stdout",
     "output_type": "stream",
     "text": [
      "Enter the number: 22222\n",
      "Reversed number is: 22222\n",
      "It is equal - Palindrome\n"
     ]
    }
   ],
   "source": [
    "palindrome()"
   ]
  },
  {
   "cell_type": "markdown",
   "metadata": {},
   "source": [
    "5. If the ages of Ram, Shyam and Ajay are input through the keyboard, write a program to\n",
    "determine the youngest of the three."
   ]
  },
  {
   "cell_type": "code",
   "execution_count": 60,
   "metadata": {},
   "outputs": [],
   "source": [
    "def age():\n",
    "    try:\n",
    "        r=int(input(\"Enter ram's age: \"))\n",
    "        s=int(input(\"Enter shyam's age: \"))\n",
    "        a=int(input(\"Enter Ajay's age: \"))\n",
    "        if(r<=s):\n",
    "            min=r\n",
    "            print(\"Ram is the youngest\")\n",
    "        if(s<=r):    \n",
    "            min=s\n",
    "            print(\"Shyam is the youngest\")\n",
    "        if(a<=min):\n",
    "            min=a\n",
    "            print(\"Ajay is the youngest\") \n",
    "    except:\n",
    "        print(\"Invalid Entry\")\n"
   ]
  },
  {
   "cell_type": "code",
   "execution_count": 61,
   "metadata": {},
   "outputs": [
    {
     "name": "stdout",
     "output_type": "stream",
     "text": [
      "Enter ram's age: 12\n",
      "Enter shyam's age: 12\n",
      "Enter Ajay's age: 12\n",
      "Ram is the youngest\n",
      "Shyam is the youngest\n",
      "Ajay is the youngest\n"
     ]
    }
   ],
   "source": [
    "age()"
   ]
  },
  {
   "cell_type": "markdown",
   "metadata": {},
   "source": [
    "6. Write a program to check whether a triangle is valid or not, when the three angles of the\n",
    "triangle are entered through the keyboard. A triangle is valid if the sum of all the three\n",
    "angles is equal to 180 degrees."
   ]
  },
  {
   "cell_type": "code",
   "execution_count": null,
   "metadata": {},
   "outputs": [],
   "source": [
    "def triangle():\n",
    "    try:\n",
    "        a= int(input(\"Enter the 1st angle: \"))\n",
    "        b= int(input(\"Enter the 2nd angle: \"))\n",
    "        c= int(input(\"Enter the 3rd angle: \"))\n",
    "        if(a+b+c==180): #Sum of angles of triangle is 180\n",
    "            print(\"Valid triangle\")\n",
    "        else:\n",
    "            print(\"Not a valid triangle\")\n",
    "    except: \n",
    "        print(\"Invalid Entry! Enter angles of triangles\")\n",
    "    "
   ]
  },
  {
   "cell_type": "markdown",
   "metadata": {},
   "source": [
    "7. Find the absolute value of a number entered through the keyboard."
   ]
  },
  {
   "cell_type": "code",
   "execution_count": 64,
   "metadata": {},
   "outputs": [],
   "source": [
    "def abs():\n",
    "    n= int(input(\"Enter number: \"))\n",
    "    if(n<0):\n",
    "        print(\"Absolute number is:\",n*-1)\n",
    "    else:\n",
    "        print(\"Absolute number is:\",n)"
   ]
  },
  {
   "cell_type": "code",
   "execution_count": 66,
   "metadata": {},
   "outputs": [
    {
     "name": "stdout",
     "output_type": "stream",
     "text": [
      "Enter number: 3\n",
      "Absolute number is: 3\n"
     ]
    }
   ],
   "source": [
    "abs()"
   ]
  },
  {
   "cell_type": "markdown",
   "metadata": {},
   "source": [
    "8. Given three points (x1, y1), (x2, y2) and (x3, y3), write a program to check if all the three\n",
    "points fall on one straight line."
   ]
  },
  {
   "cell_type": "code",
   "execution_count": 72,
   "metadata": {},
   "outputs": [],
   "source": [
    "def collinear(x1,y1,x2,y2,x3,y3):\n",
    "    # 3 pts on straight line = Collinearity \n",
    "    #if slopes of 3 pts are equal, then they are collinear\n",
    "    slopeAB=(y2-y1)/(x2-x1) #Slope 1\n",
    "    slopeCB=(y3-y2)/(x3-x2) #Slope 2\n",
    "    slopeCA=(y1-y3)/(x1-x3) #Slope 3\n",
    "    if(slopeAB==slopeCB):\n",
    "        if(slopeAB==slopeCA):\n",
    "            print(\"All the three points fall on one straight line\")\n",
    "    else:\n",
    "         print(\"Points don't fall on one straight line\")\n",
    "    "
   ]
  },
  {
   "cell_type": "code",
   "execution_count": 73,
   "metadata": {},
   "outputs": [
    {
     "name": "stdout",
     "output_type": "stream",
     "text": [
      "Points don't fall on one straight line\n"
     ]
    }
   ],
   "source": [
    "collinear(-1,2,-3,5,4,-8)"
   ]
  },
  {
   "cell_type": "markdown",
   "metadata": {},
   "source": [
    "9. Given a point (x, y), write a program to find out if it lies on the x-axis, y-axis or at the\n",
    "origin, viz. (0, 0)."
   ]
  },
  {
   "cell_type": "code",
   "execution_count": 74,
   "metadata": {},
   "outputs": [],
   "source": [
    "def point(x,y):\n",
    "    if(x==0 and y==0): #point indicating at origin\n",
    "        print(\"Point is at origin\")\n",
    "    elif(x==0): #if lies on x axis\n",
    "        print(\"Lies in X-axis\")\n",
    "    elif(y==0): #if lies on y axis\n",
    "        print(\"Lies in Y-axis\")\n",
    "    else:\n",
    "        print(\"Point is in between the axes\")\n"
   ]
  },
  {
   "cell_type": "code",
   "execution_count": 75,
   "metadata": {},
   "outputs": [
    {
     "name": "stdout",
     "output_type": "stream",
     "text": [
      "Lies in Y-axis\n"
     ]
    }
   ],
   "source": [
    "point(1,0)"
   ]
  },
  {
   "cell_type": "markdown",
   "metadata": {},
   "source": [
    "10. An Insurance company follows following rules to calculate premium.\n",
    " \n",
    "A. If a person’s health is excellent and the person is between 25 and 35 years of\n",
    "age and lives in a city and is a male then the premium is Rs. 4 per thousand and\n",
    "his policy amount cannot exceed Rs. 2 lakhs.\n",
    "\n",
    "B.If a person satisfies all the above conditions except that the sex is female then\n",
    "the premium is Rs. 3 per thousand and her policy amount cannot exceed Rs. 1\n",
    "lakh.\n",
    "\n",
    "C. If a person’s health is poor and the person is between 25 and 35 years of age\n",
    "and lives in a village and is a male\n",
    "\n",
    "Write a program to output whether the person should be insured or not, his/her premium\n",
    "rate and maximum amount for which he/she can be insured."
   ]
  },
  {
   "cell_type": "code",
   "execution_count": 78,
   "metadata": {},
   "outputs": [],
   "source": [
    "def insurance():\n",
    "    health= input(\"Enter current health condition- Execellent/Poor: \")\n",
    "    age= int(input(\"Enter the age: \"))\n",
    "    area= input(\"Enter the area - city/village: \")\n",
    "    gender=input(\"Enter gender - M/F: \")\n",
    "\n",
    "    if(health=='Execellent' and 25<=age<=35 and area=='city'and gender=='M'):\n",
    "        print(\"Insured \\npremium is Rs. 4 per thousand \\npolicy amount cannot exceed Rs. 2 lakhs\")\n",
    "    elif(health=='Execellent' and 25<=age<=35 and area=='city'and gender=='F'):\n",
    "        print(\"Insured \\npremium is Rs. 3 per thousand \\npolicy amount cannot exceed Rs. 1 lakhs\")\n",
    "    elif(health=='Poor' and 25<=age<=35 and area=='village'and gender=='M') :\n",
    "        print(\"To be insured\")\n",
    "    else:\n",
    "        print(\"Should not be insured\")  \n",
    " "
   ]
  },
  {
   "cell_type": "code",
   "execution_count": 79,
   "metadata": {},
   "outputs": [
    {
     "name": "stdout",
     "output_type": "stream",
     "text": [
      "Enter current health condition- Execellent/Poor: Poor\n",
      "Enter the age: 29\n",
      "Enter the area - city/village: city\n",
      "Enter gender - M/F: village\n",
      "Should not be insured\n"
     ]
    }
   ],
   "source": [
    "insurance()"
   ]
  },
  {
   "cell_type": "markdown",
   "metadata": {},
   "source": [
    "11. A certain grade of steel is graded according to the following conditions:\n",
    "a. (i) Hardness must be greater than 50\n",
    "b. (ii) Carbon content must be less than 0.7\n",
    "c. (iii) Tensile strength must be greater than 5600\n",
    "The grades are as follows:\n",
    "Grade is 10 if all three conditions are met\n",
    "Grade is 9 if conditions (i) and (ii) are met\n",
    "Grade is 8 if conditions (ii) and (iii) are met\n",
    "Grade is 7 if conditions (i) and (iii) are met\n",
    "Grade is 6 if only one condition is met\n",
    "Grade is 5 if none of the conditions are met\n",
    "Write a program, which will require the user to give values of hardness, carbon content\n",
    "and tensile strength of the steel under consideration and output the grade of the steel."
   ]
  },
  {
   "cell_type": "code",
   "execution_count": null,
   "metadata": {},
   "outputs": [],
   "source": [
    "def carbon():\n",
    "    try:\n",
    "        h= int(input(\"Enter the hardness: \"))\n",
    "        c= int(input(\"Enter the carbon content: \"))\n",
    "        t= int(input(\"Enter the tensile strength: \"))\n",
    "        if(h>50 and c<0.7 and t>5600):\n",
    "            print(\"Quality of steel: Grade 10\")\n",
    "        elif(h>50 and c<0.7):\n",
    "            print(\"Quality of steel: Grade 9\")\n",
    "        elif(c<0.7 and t>5600):\n",
    "            print(\"Quality of steel: Grade 8\")\n",
    "        elif(h>50 and t>5600):\n",
    "            print(\"Quality of steel: Grade 7\") \n",
    "        elif(h>50 or c<0.7 or t>5600):\n",
    "            print(\"Quality of steel: Grade 6\") \n",
    "        else:\n",
    "            print(\"Quality of steel: Grade 5\")\n",
    "    except:\n",
    "        print(\"Invalid Entry!\")"
   ]
  },
  {
   "cell_type": "markdown",
   "metadata": {},
   "source": [
    "12. A library charges a fine for every book returned late. For first 5 days the fine is 50 paise,\n",
    "for 6-10 days fine is one rupee and above 10 days fine is 5 rupees. If you return the\n",
    "book after 30 days your membership will be cancelled. Write a program to accept the \n",
    "number of days the member is late to return the book and display the fine or the\n",
    "appropriate message."
   ]
  },
  {
   "cell_type": "code",
   "execution_count": 81,
   "metadata": {},
   "outputs": [],
   "source": [
    "def lib():\n",
    "    nof_late = int(input(\"Enter the number of days delayed: \"))\n",
    "    if(nof_late<=5):\n",
    "        print(\"Fine to be payed: \",nof_late*.5)\n",
    "    elif(6<=nof_late<=10):\n",
    "        print(\"Fine to be payed: \",nof_late*1)\n",
    "    elif(10<=nof_late<=30):\n",
    "        print(\"Fine to be payed: \",nof_late*5)\n",
    "    elif(nof_late>30):\n",
    "        print(\"Membership is cancelled\")\n",
    "        "
   ]
  },
  {
   "cell_type": "code",
   "execution_count": 84,
   "metadata": {},
   "outputs": [
    {
     "name": "stdout",
     "output_type": "stream",
     "text": [
      "Enter the number of days delayed: 31\n",
      "Membership is cancelled\n"
     ]
    }
   ],
   "source": [
    "lib()"
   ]
  },
  {
   "cell_type": "markdown",
   "metadata": {},
   "source": [
    "13. The policy followed by a company to process customer orders is given by the following\n",
    "rules:\n",
    "\n",
    "a. If a customer order is less than or equal to that in stock and has credit is OK,\n",
    "supply has requirement.\n",
    "\n",
    "b. If has credit is not OK do not supply. Send him intimation.\n",
    "\n",
    "c. If has credit is Ok but the item in stock is less than has\n",
    "order, supply what is in stock. Intimate to him data the balance will be shipped. \n",
    "\n",
    "Write a program to implement the company policy."
   ]
  },
  {
   "cell_type": "code",
   "execution_count": 90,
   "metadata": {},
   "outputs": [],
   "source": [
    "def stock():\n",
    "    stock = 200  #Stock intialized as 200\n",
    "    cust_order= int(input(\"Enter customer required order quantity: \"))\n",
    "    credict=input(\"Customer's credict check (OK/Not OK)\")\n",
    "\n",
    "    if(credict=='OK'):\n",
    "        if(cust_order<=stock):\n",
    "            print(\"Supply has per requirement\")\n",
    "        elif(cust_order>stock):\n",
    "            print(\"%d orders will be supplied now, the balance %d orders will be shipped soon\"% (stock,cust_order-stock))\n",
    "    elif(credict!='OK'):\n",
    "        print(\"Insufficient credict - Order can't be processed\")\n",
    "   "
   ]
  },
  {
   "cell_type": "code",
   "execution_count": 91,
   "metadata": {},
   "outputs": [
    {
     "name": "stdout",
     "output_type": "stream",
     "text": [
      "Enter customer required order quantity: 300\n",
      "Customer's credict check (OK/Not OK)OK\n",
      "200 orders will be supplied now, the balance 100 orders will be shipped soon\n"
     ]
    }
   ],
   "source": [
    "stock()"
   ]
  },
  {
   "cell_type": "markdown",
   "metadata": {},
   "source": [
    "14. In a company, worker efficiency is determined on the basis of the time required for a\n",
    "worker to complete a particular job. If the time taken by the worker is between 2 – 3\n",
    "hours, then the worker is said to be highly efficient. If the time required by the worker is\n",
    "between 3 – 4 hours, then the worker is ordered to improve speed. If the time taken is\n",
    "between 4 – 5 hours, the worker is given training to improve his speed, and if the time\n",
    "taken by the worker is more than 5 hours, then the worker has to leave the company. If\n",
    "the time taken by the worker is input through the keyboard, find the efficiency of the\n",
    "worker"
   ]
  },
  {
   "cell_type": "code",
   "execution_count": null,
   "metadata": {},
   "outputs": [],
   "source": [
    "def eff():\n",
    "    duration= int(input(\"Enter the time taken in hours: \"))\n",
    "\n",
    "    if(2<duration<=3) :\n",
    "        print(\"You are highly efficient\")\n",
    "    elif(3<duration<=4):\n",
    "        print(\"Improve your speed\")\n",
    "    elif(4<duration<=5):\n",
    "        print(\"Required to undergo training to improve speed\")\n",
    "    elif(duration>5):\n",
    "        print(\"Needs to leave the company\")\n",
    "\n"
   ]
  },
  {
   "cell_type": "markdown",
   "metadata": {},
   "source": [
    "15. A university has the following rules for a student to qualify for a degree with A as the\n",
    "main subject and B as the subsidiary subject:\n",
    "\n",
    "a. He should get 55 percent or more in A and 45 percent or more in B.\n",
    "\n",
    "b. If he gets than 55 percent in A he should get 55 percent or more in B. However,\n",
    "he should get at least 45 percent in A.\n",
    "\n",
    "c. If he gets less than 45 percent in B and 65 percent or more in A he is allowed to\n",
    "reappear in an examination in B to qualify.\n",
    "\n",
    "d. In all other cases he is declared to have failed.\n",
    "\n",
    "Write a program to receive marks in A and B and Output whether the student has\n",
    "passed, failed or is allowed to reappear in B."
   ]
  },
  {
   "cell_type": "code",
   "execution_count": 95,
   "metadata": {},
   "outputs": [],
   "source": [
    "def qualify():\n",
    "    A= int(input(\"Enter the marks in A: \"))\n",
    "    B= int(input(\"Enter the marks in B: \"))\n",
    "\n",
    "    if(A>55):\n",
    "        if(B>=45):\n",
    "            print (\"Pass\")\n",
    "        elif (B<45):\n",
    "            print(\"Reappear to qualify in B\")\n",
    "    elif(A>=45 and A<=55) and (B>=55) :\n",
    "        print(\"Pass\")\n",
    "    else:\n",
    "        print(\"Fail\")"
   ]
  },
  {
   "cell_type": "code",
   "execution_count": 96,
   "metadata": {},
   "outputs": [
    {
     "name": "stdout",
     "output_type": "stream",
     "text": [
      "Enter the marks in A: 45\n",
      "Enter the marks in B: 20\n",
      "Fail\n"
     ]
    }
   ],
   "source": [
    "qualify()"
   ]
  },
  {
   "cell_type": "code",
   "execution_count": null,
   "metadata": {},
   "outputs": [],
   "source": []
  },
  {
   "cell_type": "code",
   "execution_count": null,
   "metadata": {},
   "outputs": [],
   "source": []
  },
  {
   "cell_type": "code",
   "execution_count": null,
   "metadata": {},
   "outputs": [],
   "source": []
  },
  {
   "cell_type": "code",
   "execution_count": null,
   "metadata": {},
   "outputs": [],
   "source": []
  },
  {
   "cell_type": "code",
   "execution_count": null,
   "metadata": {},
   "outputs": [],
   "source": []
  },
  {
   "cell_type": "code",
   "execution_count": null,
   "metadata": {},
   "outputs": [],
   "source": []
  },
  {
   "cell_type": "code",
   "execution_count": null,
   "metadata": {},
   "outputs": [],
   "source": []
  },
  {
   "cell_type": "code",
   "execution_count": null,
   "metadata": {},
   "outputs": [],
   "source": []
  },
  {
   "cell_type": "code",
   "execution_count": null,
   "metadata": {},
   "outputs": [],
   "source": []
  },
  {
   "cell_type": "code",
   "execution_count": null,
   "metadata": {},
   "outputs": [],
   "source": []
  },
  {
   "cell_type": "code",
   "execution_count": null,
   "metadata": {},
   "outputs": [],
   "source": []
  },
  {
   "cell_type": "code",
   "execution_count": null,
   "metadata": {},
   "outputs": [],
   "source": []
  },
  {
   "cell_type": "code",
   "execution_count": null,
   "metadata": {},
   "outputs": [],
   "source": []
  }
 ],
 "metadata": {
  "kernelspec": {
   "display_name": "Python 3",
   "language": "python",
   "name": "python3"
  },
  "language_info": {
   "codemirror_mode": {
    "name": "ipython",
    "version": 3
   },
   "file_extension": ".py",
   "mimetype": "text/x-python",
   "name": "python",
   "nbconvert_exporter": "python",
   "pygments_lexer": "ipython3",
   "version": "3.7.6"
  }
 },
 "nbformat": 4,
 "nbformat_minor": 4
}
