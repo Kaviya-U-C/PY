{
 "cells": [
  {
   "cell_type": "markdown",
   "metadata": {},
   "source": [
    "### Assignment 3"
   ]
  },
  {
   "cell_type": "markdown",
   "metadata": {},
   "source": [
    "##### Introduction to Python"
   ]
  },
  {
   "cell_type": "markdown",
   "metadata": {},
   "source": [
    "1. WAP that will accept two sets of numbers and calculate the Pearson’s correlation\n",
    "coefficient between them. (Use necessary exception handling). (Optional if you do not\n",
    "know what it is)"
   ]
  },
  {
   "cell_type": "code",
   "execution_count": 5,
   "metadata": {},
   "outputs": [],
   "source": [
    "import numpy as np\n",
    "def pearson(x,y):\n",
    "    try:\n",
    "        x_bar= np.mean(x)  #Average of x\n",
    "        y_bar= np.mean(y)  #Average of y\n",
    "\n",
    "        cov = np.sum((x - x_bar) * (y - y_bar)) #Covariance of (x,y)\n",
    "        std_dev = np.sqrt(np.sum(np.power(x - x_bar, 2)) * np.sum(np.power(y - y_bar, 2))) #Product od std deviation of x and y\n",
    "        r=cov/std_dev  #Pearson coeeficient= cov(x,y)/std_dev(x)*std_dev(y)\n",
    "        print(\"Pearson Coefficient of Correlation: \",round(r,2))\n",
    "    except:\n",
    "        print(\"Invalid Entry!\")\n"
   ]
  },
  {
   "cell_type": "code",
   "execution_count": 101,
   "metadata": {},
   "outputs": [
    {
     "name": "stdout",
     "output_type": "stream",
     "text": [
      "Pearson Coefficient of Correlation:  0.97\n"
     ]
    }
   ],
   "source": [
    "pearson([-2,3,4,8],[3,4,5,6])"
   ]
  },
  {
   "cell_type": "markdown",
   "metadata": {},
   "source": [
    "2. Write a program to print all prime numbers from 1 to 300.\n"
   ]
  },
  {
   "cell_type": "code",
   "execution_count": 105,
   "metadata": {},
   "outputs": [],
   "source": [
    "def prime():\n",
    "    for num in range(2,301): #To check from numbers 1 to 300, since 1 is not prime we start from 2\n",
    "        count=0\n",
    "        for factors in range(2,num): #To check from its divisors other than 1 and itself\n",
    "            if(num%factors==0):\n",
    "                count=count+1   #If factors are present, increment count\n",
    "                break\n",
    "        if(count==0): #If count is 0, then it is prime number\n",
    "            print(num)\n",
    "        "
   ]
  },
  {
   "cell_type": "code",
   "execution_count": 106,
   "metadata": {},
   "outputs": [
    {
     "name": "stdout",
     "output_type": "stream",
     "text": [
      "2\n",
      "3\n",
      "5\n",
      "7\n",
      "11\n",
      "13\n",
      "17\n",
      "19\n",
      "23\n",
      "29\n",
      "31\n",
      "37\n",
      "41\n",
      "43\n",
      "47\n",
      "53\n",
      "59\n",
      "61\n",
      "67\n",
      "71\n",
      "73\n",
      "79\n",
      "83\n",
      "89\n",
      "97\n",
      "101\n",
      "103\n",
      "107\n",
      "109\n",
      "113\n",
      "127\n",
      "131\n",
      "137\n",
      "139\n",
      "149\n",
      "151\n",
      "157\n",
      "163\n",
      "167\n",
      "173\n",
      "179\n",
      "181\n",
      "191\n",
      "193\n",
      "197\n",
      "199\n",
      "211\n",
      "223\n",
      "227\n",
      "229\n",
      "233\n",
      "239\n",
      "241\n",
      "251\n",
      "257\n",
      "263\n",
      "269\n",
      "271\n",
      "277\n",
      "281\n",
      "283\n",
      "293\n"
     ]
    }
   ],
   "source": [
    "prime()"
   ]
  },
  {
   "cell_type": "markdown",
   "metadata": {},
   "source": [
    "3.Write a program to print the multiplication table of the number entered by the user. The\n",
    "table should get displayed in the following form.\n",
    "29 * 1 = 29\n",
    "29 *2 = 58"
   ]
  },
  {
   "cell_type": "code",
   "execution_count": 107,
   "metadata": {},
   "outputs": [],
   "source": [
    "def table():\n",
    "    num=int(input(\"Enter the number: \"))\n",
    "    print(\"Multiplication table of %d\" % num)\n",
    "    for i in range(1, 13):\n",
    "        print(\"%d * %d= \"% (num,i), end='')\n",
    "        print(num*i)"
   ]
  },
  {
   "cell_type": "code",
   "execution_count": 108,
   "metadata": {},
   "outputs": [
    {
     "name": "stdout",
     "output_type": "stream",
     "text": [
      "Enter the number: 3\n",
      "Multiplication table of 3\n",
      "3 * 1= 3\n",
      "3 * 2= 6\n",
      "3 * 3= 9\n",
      "3 * 4= 12\n",
      "3 * 5= 15\n",
      "3 * 6= 18\n",
      "3 * 7= 21\n",
      "3 * 8= 24\n",
      "3 * 9= 27\n",
      "3 * 10= 30\n",
      "3 * 11= 33\n",
      "3 * 12= 36\n"
     ]
    }
   ],
   "source": [
    "table()"
   ]
  },
  {
   "cell_type": "markdown",
   "metadata": {},
   "source": [
    "3. WAP which repeatedly reads numbers until the user enters “done”. Once “done” is\n",
    "entered, print out the total, count, and average of the numbers. If the user enters\n",
    "anything other than a number, detect their mistake using try and except and print an\n",
    "error message and skip to the next number. (Use of list is not allowed in this program)"
   ]
  },
  {
   "cell_type": "code",
   "execution_count": 113,
   "metadata": {},
   "outputs": [],
   "source": [
    "def summarize():\n",
    "    sum=0\n",
    "    count=0\n",
    "    avg=0\n",
    "    while(1):\n",
    "        try:\n",
    "            a=input(\"Enter the number: \")\n",
    "            if(a=='done'):\n",
    "                print(\"Sum: %d, No of elements: %d, Average: %.02f\"%(sum, count,avg)) #once done is inputted,output sum,count, average\n",
    "                break\n",
    "            num= int(a)\n",
    "            sum=sum+num   #Summation of elements\n",
    "            count=count+1 #Counting number of elements\n",
    "            avg= sum/count #Computing the average\n",
    "\n",
    "        except(ValueError):\n",
    "            print(\"Invalid input\")\n"
   ]
  },
  {
   "cell_type": "code",
   "execution_count": 114,
   "metadata": {},
   "outputs": [
    {
     "name": "stdout",
     "output_type": "stream",
     "text": [
      "Enter the number: 2\n",
      "Enter the number: 3\n",
      "Enter the number: 4\n",
      "Enter the number: 9\n",
      "Enter the number: 0\n",
      "Enter the number: 2\n",
      "Enter the number: \n",
      "Invalid input\n",
      "Enter the number: 3\n",
      "Enter the number: done\n",
      "TSum: 23, No of elements: 7, Average: 3.29\n"
     ]
    }
   ],
   "source": [
    "summarize()"
   ]
  },
  {
   "cell_type": "markdown",
   "metadata": {},
   "source": [
    "4. Write another program that prompts for a list of numbers as above and at the end prints\n",
    "both the maximum and minimum of the numbers instead of the average. (Use of list is\n",
    "not allowed in this program)"
   ]
  },
  {
   "cell_type": "code",
   "execution_count": 117,
   "metadata": {},
   "outputs": [],
   "source": [
    "def minmax():\n",
    "    max=0 #max intialized as 0\n",
    "    \n",
    "    while(1):\n",
    "        try:\n",
    "            a=input(\"Enter the number: \")\n",
    "            if(a=='done'):\n",
    "                print(max,min) #once done is inputted, output max and min\n",
    "                break\n",
    "            num= int(a)\n",
    "            if(num>max): #finding max\n",
    "                max=num\n",
    "                min=max+1 #min initailized as max+1, would always be greater than numbers in that list\n",
    "            if(num<min): #finding min\n",
    "                min=num\n",
    "        except(ValueError):\n",
    "            print(\"Invalid input\")"
   ]
  },
  {
   "cell_type": "code",
   "execution_count": 118,
   "metadata": {},
   "outputs": [
    {
     "name": "stdout",
     "output_type": "stream",
     "text": [
      "Enter the number: 3\n",
      "Enter the number: 5\n",
      "Enter the number: 11\n",
      "Enter the number: -1\n",
      "Enter the number: 2\n",
      "Enter the number: done\n",
      "11 -1\n"
     ]
    }
   ],
   "source": [
    "minmax()"
   ]
  },
  {
   "cell_type": "markdown",
   "metadata": {},
   "source": [
    "5. Guess a number is a game that prompts a player to guess a number between 0 and 9,\n",
    "which is randomly generated by the system. When the input given by the user matches\n",
    "the number generated by the system then the user wins. The game should go as\n",
    "follows:"
   ]
  },
  {
   "cell_type": "code",
   "execution_count": 1,
   "metadata": {},
   "outputs": [],
   "source": [
    "import random\n",
    "def match():\n",
    "    num2=random.randint(0,9) #Random number generated\n",
    "   \n",
    "    while(1):\n",
    "        num=int(input(\"Enter the input: \"))\n",
    "        \n",
    "        if(num==num2):\n",
    "            print(\"You got it right! Congo!\") #If guessed number matches\n",
    "            break\n",
    "        if(num=='exit'): \n",
    "            break\n",
    "        else:\n",
    "            print(\"Sorry! Try again\")"
   ]
  },
  {
   "cell_type": "code",
   "execution_count": 2,
   "metadata": {},
   "outputs": [
    {
     "name": "stdout",
     "output_type": "stream",
     "text": [
      "7\n",
      "Enter the input: 4\n",
      "Sorry! Try again\n",
      "Enter the input: 8\n",
      "Sorry! Try again\n",
      "Enter the input: 7\n",
      "You got it right! Congo!\n"
     ]
    }
   ],
   "source": [
    "match()"
   ]
  },
  {
   "cell_type": "markdown",
   "metadata": {},
   "source": [
    "6. Make an improvement to the Guess a number game. Guide the user where they are\n",
    "standing and limit the number of attempts to 3. For example, the game should go like\n",
    "this:\n",
    "Guess the number: 4\n",
    "Too low\n",
    "Guess the number: 9\n",
    "Too high\n",
    "Guess the number: 5\n",
    "Sorry you Lost!"
   ]
  },
  {
   "cell_type": "code",
   "execution_count": 13,
   "metadata": {},
   "outputs": [],
   "source": [
    "def guess():\n",
    "    import random\n",
    "    r=random.randint(0,9) #A random number generated\n",
    "\n",
    "    for i in range(0,3):\n",
    "        n=int(input(\"Guess the number: \")) #Guessing a number\n",
    "\n",
    "        if(n!=r):\n",
    "            a=int(n)\n",
    "            if(a>r):\n",
    "                print(\"Too high\") #Indicating guessed number is of higher value than expected\n",
    "            elif(r>a):\n",
    "                print(\"Too low\")#Indicating guessed number is of lower value than expected\n",
    "        if(n==r):\n",
    "            print(\"You got it right! Congo!\")#When number matches\n",
    "            break\n",
    "        if(i==2):\n",
    "            print(\"Sorry you Lost!\")\n"
   ]
  },
  {
   "cell_type": "code",
   "execution_count": 14,
   "metadata": {},
   "outputs": [
    {
     "name": "stdout",
     "output_type": "stream",
     "text": [
      "Guess the number: 2\n",
      "Too low\n",
      "Guess the number: 3\n",
      "You got it right! Congo!\n"
     ]
    }
   ],
   "source": [
    "guess()"
   ]
  },
  {
   "cell_type": "markdown",
   "metadata": {},
   "source": [
    "7. Let us make the above game a little more interesting by converting it into a gambling\n",
    "problem. Suppose that a player starts with Rs. 1,000. If a player can guess the number\n",
    "in his first chance, then he will be given a prize of Rs. 5,000, if he requires 2 attempts\n",
    "then he will get a prize of Rs.1,000. If he loses then he will lose Rs. 500. For example\n",
    "the game should go like this:\n",
    "You have a cash of Rs. 1,000 with you...\n",
    "Guess the number: 8\n",
    "Too high\n",
    "Guess the number: 3\n",
    "You have just won Rs. 1,000\n",
    "Your balance: Rs. 2000"
   ]
  },
  {
   "cell_type": "code",
   "execution_count": 3,
   "metadata": {},
   "outputs": [],
   "source": [
    "def gambling():\n",
    "    import random\n",
    "    tot_money=1000 #Initailizing total amount\n",
    "    r1=random.randint(0,9) #Generating a random number\n",
    "    \n",
    "    for i in range(0,2):\n",
    "        n1=int(input(\"Guess the number: \")) #Guessing a number\n",
    "\n",
    "        if(n1==r1):\n",
    "            if(i==0):\n",
    "                print(\"You have won 5000rs\") \n",
    "                tot_money=tot_money+5000 #Incrementing 5000rs, when guessed right on the first chance\n",
    "            elif(i==1):\n",
    "                print(\"You have won 1000rs\")\n",
    "                tot_money=tot_money+1000 #Incrementing 1000rs, when guessed right on the second chance\n",
    "                print(\"Your Balance: \",tot_money)\n",
    "        elif(n1!=r1):\n",
    "            a=int(n1)\n",
    "            if(a>r1):\n",
    "                print(\"Too high\") #Indicating guessed number is of higher value than expected\n",
    "            elif(r1>a):\n",
    "                print(\"Too low\") #Indicating guessed number is of lower value than expected\n",
    "            if(i==1):\n",
    "                print(\"Sorry you Lost!\")\n",
    "                tot_money=tot_money-500 #if not guessed right within 2 chances, deduce 500rs\n",
    "                print(\"Your Balance: \",tot_money)   \n"
   ]
  },
  {
   "cell_type": "code",
   "execution_count": 4,
   "metadata": {},
   "outputs": [
    {
     "name": "stdout",
     "output_type": "stream",
     "text": [
      "0\n",
      "Guess the number: 2\n",
      "Too high\n",
      "Guess the number: 0\n",
      "You have won 1000rs\n",
      "Your Balance:  2000\n"
     ]
    }
   ],
   "source": [
    "gambling()"
   ]
  },
  {
   "cell_type": "code",
   "execution_count": null,
   "metadata": {},
   "outputs": [],
   "source": []
  },
  {
   "cell_type": "code",
   "execution_count": null,
   "metadata": {},
   "outputs": [],
   "source": []
  },
  {
   "cell_type": "code",
   "execution_count": null,
   "metadata": {},
   "outputs": [],
   "source": []
  },
  {
   "cell_type": "code",
   "execution_count": null,
   "metadata": {},
   "outputs": [],
   "source": []
  },
  {
   "cell_type": "code",
   "execution_count": null,
   "metadata": {},
   "outputs": [],
   "source": []
  },
  {
   "cell_type": "code",
   "execution_count": null,
   "metadata": {},
   "outputs": [],
   "source": []
  },
  {
   "cell_type": "code",
   "execution_count": null,
   "metadata": {},
   "outputs": [],
   "source": []
  },
  {
   "cell_type": "code",
   "execution_count": null,
   "metadata": {},
   "outputs": [],
   "source": []
  },
  {
   "cell_type": "code",
   "execution_count": null,
   "metadata": {},
   "outputs": [],
   "source": []
  },
  {
   "cell_type": "code",
   "execution_count": null,
   "metadata": {},
   "outputs": [],
   "source": []
  },
  {
   "cell_type": "code",
   "execution_count": null,
   "metadata": {},
   "outputs": [],
   "source": []
  },
  {
   "cell_type": "code",
   "execution_count": null,
   "metadata": {},
   "outputs": [],
   "source": []
  },
  {
   "cell_type": "code",
   "execution_count": null,
   "metadata": {},
   "outputs": [],
   "source": []
  }
 ],
 "metadata": {
  "kernelspec": {
   "display_name": "Python 3",
   "language": "python",
   "name": "python3"
  },
  "language_info": {
   "codemirror_mode": {
    "name": "ipython",
    "version": 3
   },
   "file_extension": ".py",
   "mimetype": "text/x-python",
   "name": "python",
   "nbconvert_exporter": "python",
   "pygments_lexer": "ipython3",
   "version": "3.7.6"
  }
 },
 "nbformat": 4,
 "nbformat_minor": 4
}
