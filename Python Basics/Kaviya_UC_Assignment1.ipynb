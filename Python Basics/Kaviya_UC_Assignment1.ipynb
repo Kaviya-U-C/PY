{
 "cells": [
  {
   "cell_type": "markdown",
   "metadata": {},
   "source": [
    "### Assignment 1"
   ]
  },
  {
   "cell_type": "markdown",
   "metadata": {},
   "source": [
    "#### Introduction to Python"
   ]
  },
  {
   "cell_type": "markdown",
   "metadata": {},
   "source": [
    "1. Ramesh’s basic salary is input through the keyboard. His dearness allowance is 40% of\n",
    "basic salary, and house rent allowance is 20% of basic salary. Write a program to\n",
    "calculate his gross salary."
   ]
  },
  {
   "cell_type": "code",
   "execution_count": 11,
   "metadata": {},
   "outputs": [],
   "source": [
    "def salary():\n",
    "    basic = float(input(\"Enter basic salary: \"))\n",
    "    da= basic*0.40  #da = 40% of basic\n",
    "    hra= basic*0.20 #hra= 20% of basic\n",
    "    gross = basic+da+hra\n",
    "    return gross"
   ]
  },
  {
   "cell_type": "code",
   "execution_count": 12,
   "metadata": {},
   "outputs": [
    {
     "name": "stdout",
     "output_type": "stream",
     "text": [
      "Enter basic salary: 1200\n"
     ]
    },
    {
     "data": {
      "text/plain": [
       "1920.0"
      ]
     },
     "execution_count": 12,
     "metadata": {},
     "output_type": "execute_result"
    }
   ],
   "source": [
    "salary()"
   ]
  },
  {
   "cell_type": "markdown",
   "metadata": {},
   "source": [
    "2. The distance between two cities (in km.) is input through the keyboard. Write a program\n",
    "to convert and print this distance in meters, feet, inches and centimeters."
   ]
  },
  {
   "cell_type": "code",
   "execution_count": 6,
   "metadata": {},
   "outputs": [],
   "source": [
    "def distance():\n",
    "    km= int(input(\"Enter distance in kms: \"))\n",
    "    meters = 1000*km #1km= 1000 m\n",
    "    feet= 3281*km    #1km=3281 km\n",
    "    inches=39370*km  #1km=39370 inches\n",
    "    cms=100000*km    #1km=100000 cms\n",
    "    print(\"%d kms is equal to: \\n %d meters \\n %d feets \\n %d inches \\n %d cms\" % (km,meters,feet,inches,cms))\n",
    "    return "
   ]
  },
  {
   "cell_type": "code",
   "execution_count": 7,
   "metadata": {},
   "outputs": [
    {
     "name": "stdout",
     "output_type": "stream",
     "text": [
      "Enter distance in kms: 2\n",
      "2 kms is equal to: \n",
      " 2000 meters \n",
      " 6562 feets \n",
      " 78740 inches \n",
      " 200000 cms\n"
     ]
    }
   ],
   "source": [
    "distance()"
   ]
  },
  {
   "cell_type": "markdown",
   "metadata": {},
   "source": [
    "3. If the marks obtained by a student in five different subjects are input through the\n",
    "keyboard, find out the aggregate marks and percentage marks obtained by the student.\n",
    "Assume that the maximum marks that can be obtained by a student in each subject is\n",
    "100."
   ]
  },
  {
   "cell_type": "code",
   "execution_count": 9,
   "metadata": {},
   "outputs": [],
   "source": [
    "def marks():\n",
    "    english= int(input(\"English-> Enter marks obtained out of 100: \"))\n",
    "    maths=int(input(\"Maths-> Enter marks obtained out of 100: \"))\n",
    "    science=int(input(\"Science-> Enter marks obtained out of 100: \"))\n",
    "    social=int(input(\"Socail-> Enter marks obtained out of 100: \"))\n",
    "    programming=int(input(\"Programming-> Enter marks obtained out of 100: \"))\n",
    "\n",
    "    Aggregate_marks= english+maths+science+social+programming #Summation of marks\n",
    "    Aggregate_percentage= (Aggregate_marks/500)*100 #Percentage of marks\n",
    "    print(\"Aggregate marks obtained: %d , Aggregate percentage obtained: %d\" %(Aggregate_marks,Aggregate_percentage))"
   ]
  },
  {
   "cell_type": "code",
   "execution_count": 10,
   "metadata": {},
   "outputs": [
    {
     "name": "stdout",
     "output_type": "stream",
     "text": [
      "English-> Enter marks obtained out of 100: 97\n",
      "Maths-> Enter marks obtained out of 100: 55\n",
      "Science-> Enter marks obtained out of 100: 78\n",
      "Socail-> Enter marks obtained out of 100: 23\n",
      "Programming-> Enter marks obtained out of 100: 99\n",
      "Aggregate marks obtained: 352 , Aggregate percentage obtained: 70\n"
     ]
    }
   ],
   "source": [
    "marks()"
   ]
  },
  {
   "cell_type": "markdown",
   "metadata": {},
   "source": [
    "4. Temperature of a city in Fahrenheit degrees is input through the keyboard. Write a\n",
    "program to convert this temperature into Centigrade degrees."
   ]
  },
  {
   "cell_type": "code",
   "execution_count": 11,
   "metadata": {},
   "outputs": [],
   "source": [
    "def temp():\n",
    "    Fahrenheit= float(input(\"Enter the temperature in Fahrenheit: \"))\n",
    "    centigrade= (Fahrenheit-32)*5/9 #Celicus to Fahrenheit\n",
    "    print(\"Temperature in centigrade:%0.2f\" %(centigrade))"
   ]
  },
  {
   "cell_type": "code",
   "execution_count": 12,
   "metadata": {},
   "outputs": [
    {
     "name": "stdout",
     "output_type": "stream",
     "text": [
      "Enter the temperature in Fahrenheit: 95\n",
      "Temperature in centigrade:35.00\n"
     ]
    }
   ],
   "source": [
    "temp()"
   ]
  },
  {
   "cell_type": "markdown",
   "metadata": {},
   "source": [
    "5. The length & breadth of a rectangle and radius of a circle are input through the\n",
    "keyboard. Write a program to calculate the area & perimeter of the rectangle, and the\n",
    "area & circumference of the circle."
   ]
  },
  {
   "cell_type": "code",
   "execution_count": 13,
   "metadata": {},
   "outputs": [],
   "source": [
    "def area():\n",
    "    from math import pi\n",
    "    length = int(input(\"Enter length of rectangle: \"))\n",
    "    breadth = int(input(\"Enter breadth of rectangle: \"))\n",
    "    radius = float(input(\"Enter radius of circle: \"))\n",
    "    r_perimeter= 2*length+2*breadth  #Perimeter of rect = 2l+2b \n",
    "    r_area= length*breadth  #Area of rect= l*b\n",
    "    c_perimeter= 2*pi*radius #Perimeter of circle= 2*pi*radius\n",
    "    c_area=pi*radius**2 #Area of circle= pi*(r)^2\n",
    "\n",
    "    print(\"Perimeter of rectangle: %d  Area of rectangle: %d\" % (r_perimeter,r_area))\n",
    "    print(\"Circumference of circle: %.2f  Area of circle: %.2f\" % (c_perimeter,c_area))\n"
   ]
  },
  {
   "cell_type": "code",
   "execution_count": 14,
   "metadata": {},
   "outputs": [
    {
     "name": "stdout",
     "output_type": "stream",
     "text": [
      "Enter length of rectangle: 20\n",
      "Enter breadth of rectangle: 10\n",
      "Enter radius of circle: 20\n",
      "Perimeter of rectangle: 60  Area of rectangle: 200\n",
      "Circumference of circle: 125.66  Area of circle: 1256.64\n"
     ]
    }
   ],
   "source": [
    "area()"
   ]
  },
  {
   "cell_type": "markdown",
   "metadata": {},
   "source": [
    "6. Two numbers are input through the keyboard into two locations C and D. Write a\n",
    "program to interchange the contents of C and D."
   ]
  },
  {
   "cell_type": "code",
   "execution_count": 15,
   "metadata": {},
   "outputs": [],
   "source": [
    "def interchange():\n",
    "    C = int(input(\"Enter C value: \"))\n",
    "    D= int(input(\"Enter number 2: \"))\n",
    "    C,D = D,C #Interchange of values\n",
    "    print(\"Exchanged values C= %d D= %d\" % (C,D))"
   ]
  },
  {
   "cell_type": "code",
   "execution_count": 16,
   "metadata": {},
   "outputs": [
    {
     "name": "stdout",
     "output_type": "stream",
     "text": [
      "Enter C value: 10\n",
      "Enter number 2: 2\n",
      "Exchanged values C= 2 D= 10\n"
     ]
    }
   ],
   "source": [
    "interchange()"
   ]
  },
  {
   "cell_type": "markdown",
   "metadata": {},
   "source": [
    "7. If a five-digit number is input through the keyboard, write a program to reverse the\n",
    "number"
   ]
  },
  {
   "cell_type": "code",
   "execution_count": 19,
   "metadata": {},
   "outputs": [],
   "source": [
    "def rev():\n",
    "    try:\n",
    "        num =int(input(\"Enter the five-digit number: \"))\n",
    "        if(num<100000):\n",
    "            reverse = 0\n",
    "            for i in range(5,0,-1):      #since input is 5 digit number\n",
    "                digits = num%10 #Extracting last digit\n",
    "                num=num//10 #Updating num by eliminating ladt digit\n",
    "                position= digits*(10**(i-1)) #Positioning the last digit as first digit\n",
    "                reverse= reverse+position\n",
    "            print(\"Reversed number is:\",reverse)\n",
    "        else:\n",
    "            print(\"Number out of range\")\n",
    "    except:\n",
    "        print(\"Invalid Entry. Enter five digit number\")"
   ]
  },
  {
   "cell_type": "code",
   "execution_count": 20,
   "metadata": {},
   "outputs": [
    {
     "name": "stdout",
     "output_type": "stream",
     "text": [
      "Enter the five-digit number: 12345\n",
      "Reversed number is: 54321\n"
     ]
    }
   ],
   "source": [
    "rev()"
   ]
  },
  {
   "cell_type": "markdown",
   "metadata": {},
   "source": [
    "8. If a four-digit number is input through the keyboard, write a program to obtain the sum of\n",
    "the first and last digit of this number"
   ]
  },
  {
   "cell_type": "code",
   "execution_count": 29,
   "metadata": {},
   "outputs": [],
   "source": [
    "def sumdigits():\n",
    "    try:\n",
    "        number=int(input(\"Enter the four-digit number: \"))\n",
    "        if(number<10000):\n",
    "            first= number//1000 #Extracting first number\n",
    "            last=number%10 #Extracting last number\n",
    "            print(\"Sum of first and last digit: \",first+last) #Sum of last and first\n",
    "        else:\n",
    "            print(\"Number out of range\")\n",
    "    except:\n",
    "        print(\"Invalid Entry. Enter four digit number\")\n"
   ]
  },
  {
   "cell_type": "code",
   "execution_count": 40,
   "metadata": {},
   "outputs": [
    {
     "name": "stdout",
     "output_type": "stream",
     "text": [
      "Enter the four-digit number: wd\n",
      "Invalid Entry. Enter four digit number\n"
     ]
    }
   ],
   "source": [
    "sumdigits()"
   ]
  },
  {
   "cell_type": "markdown",
   "metadata": {},
   "source": [
    "9. In a town, the percentage of men is 52. The percentage of total literacy is 48. If total\n",
    "percentage of literate men is 35 of the total population, write a program to find the total\n",
    "number of illiterate men and women if the population of the town is 80,000."
   ]
  },
  {
   "cell_type": "code",
   "execution_count": 25,
   "metadata": {},
   "outputs": [],
   "source": [
    "def population(population):\n",
    "    nof_men= population*.52 # % of men = 52\n",
    "    nof_women= population - nof_men\n",
    "    literacy=population*.48 # % of total literacy = 48\n",
    "\n",
    "    literate_men=population*.35 # % of literate men =35\n",
    "    illiterate_men=nof_men-literate_men\n",
    "    literate_women= literacy-literate_men\n",
    "    illiterate_women=nof_women-literate_women\n",
    "\n",
    "    print(\"Illiterate men=%d, Illiterate women=%d\" %(illiterate_men,illiterate_women))\n"
   ]
  },
  {
   "cell_type": "code",
   "execution_count": 26,
   "metadata": {},
   "outputs": [
    {
     "name": "stdout",
     "output_type": "stream",
     "text": [
      "Illiterate men=13600, Illiterate women=28000\n"
     ]
    }
   ],
   "source": [
    "population(80000)"
   ]
  },
  {
   "cell_type": "markdown",
   "metadata": {},
   "source": [
    "10. A cashier has currency notes of denominations 10, 50 and 100. If the amount to be\n",
    "withdrawn is input through the keyboard in hundreds, find the total number of currency\n",
    "notes of each denomination the cashier will have to give to the withdrawer."
   ]
  },
  {
   "cell_type": "code",
   "execution_count": 27,
   "metadata": {},
   "outputs": [],
   "source": [
    "def cash():\n",
    "    withdraw= int(input(\"Enter the amount: \"))\n",
    "    if(withdraw%10)==0 :\n",
    "                  print(\"Amount in 10's: \", withdraw/10)\n",
    "    if withdraw%50==0:\n",
    "                  print(\"Amount in 50's: \", withdraw/50)\n",
    "    if withdraw%100==0:\n",
    "                  print(\"Amount in 100's: \", withdraw/100)\n",
    "        "
   ]
  },
  {
   "cell_type": "code",
   "execution_count": 28,
   "metadata": {},
   "outputs": [
    {
     "name": "stdout",
     "output_type": "stream",
     "text": [
      "Enter the amount: 2000\n",
      "Amount in 10's:  200.0\n",
      "Amount in 50's:  40.0\n",
      "Amount in 100's:  20.0\n"
     ]
    }
   ],
   "source": [
    "cash()\n"
   ]
  },
  {
   "cell_type": "code",
   "execution_count": null,
   "metadata": {},
   "outputs": [],
   "source": []
  },
  {
   "cell_type": "code",
   "execution_count": null,
   "metadata": {},
   "outputs": [],
   "source": []
  },
  {
   "cell_type": "code",
   "execution_count": null,
   "metadata": {},
   "outputs": [],
   "source": []
  },
  {
   "cell_type": "code",
   "execution_count": null,
   "metadata": {},
   "outputs": [],
   "source": []
  },
  {
   "cell_type": "code",
   "execution_count": null,
   "metadata": {},
   "outputs": [],
   "source": []
  },
  {
   "cell_type": "code",
   "execution_count": null,
   "metadata": {},
   "outputs": [],
   "source": []
  },
  {
   "cell_type": "code",
   "execution_count": null,
   "metadata": {},
   "outputs": [],
   "source": []
  },
  {
   "cell_type": "code",
   "execution_count": null,
   "metadata": {},
   "outputs": [],
   "source": []
  },
  {
   "cell_type": "code",
   "execution_count": null,
   "metadata": {},
   "outputs": [],
   "source": []
  },
  {
   "cell_type": "code",
   "execution_count": null,
   "metadata": {},
   "outputs": [],
   "source": []
  },
  {
   "cell_type": "code",
   "execution_count": null,
   "metadata": {},
   "outputs": [],
   "source": []
  },
  {
   "cell_type": "code",
   "execution_count": null,
   "metadata": {},
   "outputs": [],
   "source": []
  },
  {
   "cell_type": "code",
   "execution_count": null,
   "metadata": {},
   "outputs": [],
   "source": []
  }
 ],
 "metadata": {
  "kernelspec": {
   "display_name": "Python 3",
   "language": "python",
   "name": "python3"
  },
  "language_info": {
   "codemirror_mode": {
    "name": "ipython",
    "version": 3
   },
   "file_extension": ".py",
   "mimetype": "text/x-python",
   "name": "python",
   "nbconvert_exporter": "python",
   "pygments_lexer": "ipython3",
   "version": "3.7.6"
  }
 },
 "nbformat": 4,
 "nbformat_minor": 4
}
